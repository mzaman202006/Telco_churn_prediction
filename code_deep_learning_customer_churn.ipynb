{
  "metadata": {
    "kernelspec": {
      "language": "python",
      "display_name": "Python 3",
      "name": "python3"
    },
    "language_info": {
      "pygments_lexer": "ipython3",
      "nbconvert_exporter": "python",
      "version": "3.6.4",
      "file_extension": ".py",
      "codemirror_mode": {
        "name": "ipython",
        "version": 3
      },
      "name": "python",
      "mimetype": "text/x-python"
    },
    "colab": {
      "provenance": [],
      "toc_visible": true,
      "include_colab_link": true
    }
  },
  "nbformat_minor": 0,
  "nbformat": 4,
  "cells": [
    {
      "cell_type": "markdown",
      "metadata": {
        "id": "view-in-github",
        "colab_type": "text"
      },
      "source": [
        "<a href=\"https://colab.research.google.com/github/mzaman202006/Telco_churn_prediction/blob/main/code_deep_learning_customer_churn.ipynb\" target=\"_parent\"><img src=\"https://colab.research.google.com/assets/colab-badge.svg\" alt=\"Open In Colab\"/></a>"
      ]
    },
    {
      "cell_type": "markdown",
      "source": [
        "# Loading library"
      ],
      "metadata": {
        "id": "FszRZkec5Jx0"
      }
    },
    {
      "cell_type": "code",
      "source": [
        "import pandas as pd\n",
        "import numpy as np\n",
        "from sklearn.preprocessing import LabelEncoder\n",
        "from sklearn.preprocessing import MinMaxScaler\n",
        "from sklearn.model_selection import train_test_split\n",
        "from sklearn.linear_model import LogisticRegression\n",
        "from sklearn import metrics\n",
        "from sklearn.metrics import confusion_matrix\n",
        "from sklearn.metrics import ConfusionMatrixDisplay\n",
        "from sklearn.metrics import classification_report\n",
        "from sklearn.svm import SVC\n",
        "from sklearn.ensemble import RandomForestClassifier\n",
        "from sklearn.ensemble import AdaBoostClassifier\n",
        "from xgboost import XGBClassifier\n",
        "import tensorflow as tf\n",
        "from tensorflow import keras"
      ],
      "metadata": {
        "id": "lLrAafnn5LrM"
      },
      "execution_count": null,
      "outputs": []
    },
    {
      "cell_type": "markdown",
      "source": [
        "# Importing dataset "
      ],
      "metadata": {
        "id": "_yOozfFWNdyz"
      }
    },
    {
      "cell_type": "code",
      "source": [
        "df=pd.read_csv(\"Telco_Customer_Churn_Data.csv\")\n",
        "df.head()\n",
        "df.info"
      ],
      "metadata": {
        "id": "cp0tMIhrNdy2",
        "execution": {
          "iopub.status.busy": "2023-05-04T19:28:48.604895Z",
          "iopub.execute_input": "2023-05-04T19:28:48.605322Z",
          "iopub.status.idle": "2023-05-04T19:28:48.647983Z",
          "shell.execute_reply.started": "2023-05-04T19:28:48.605288Z",
          "shell.execute_reply": "2023-05-04T19:28:48.646632Z"
        },
        "trusted": true,
        "colab": {
          "base_uri": "https://localhost:8080/"
        },
        "outputId": "5ddc4554-c508-45b1-bf46-de51ee269027"
      },
      "execution_count": null,
      "outputs": [
        {
          "output_type": "execute_result",
          "data": {
            "text/plain": [
              "<bound method DataFrame.info of       customerID  gender  SeniorCitizen Partner Dependents  tenure  \\\n",
              "0     7590-VHVEG  Female              0     Yes         No       1   \n",
              "1     5575-GNVDE    Male              0      No         No      34   \n",
              "2     3668-QPYBK    Male              0      No         No       2   \n",
              "3     7795-CFOCW    Male              0      No         No      45   \n",
              "4     9237-HQITU  Female              0      No         No       2   \n",
              "...          ...     ...            ...     ...        ...     ...   \n",
              "7038  6840-RESVB    Male              0     Yes        Yes      24   \n",
              "7039  2234-XADUH  Female              0     Yes        Yes      72   \n",
              "7040  4801-JZAZL  Female              0     Yes        Yes      11   \n",
              "7041  8361-LTMKD    Male              1     Yes         No       4   \n",
              "7042  3186-AJIEK    Male              0      No         No      66   \n",
              "\n",
              "     PhoneService     MultipleLines InternetService OnlineSecurity  ...  \\\n",
              "0              No  No phone service             DSL             No  ...   \n",
              "1             Yes                No             DSL            Yes  ...   \n",
              "2             Yes                No             DSL            Yes  ...   \n",
              "3              No  No phone service             DSL            Yes  ...   \n",
              "4             Yes                No     Fiber optic             No  ...   \n",
              "...           ...               ...             ...            ...  ...   \n",
              "7038          Yes               Yes             DSL            Yes  ...   \n",
              "7039          Yes               Yes     Fiber optic             No  ...   \n",
              "7040           No  No phone service             DSL            Yes  ...   \n",
              "7041          Yes               Yes     Fiber optic             No  ...   \n",
              "7042          Yes                No     Fiber optic            Yes  ...   \n",
              "\n",
              "     DeviceProtection TechSupport StreamingTV StreamingMovies        Contract  \\\n",
              "0                  No          No          No              No  Month-to-month   \n",
              "1                 Yes          No          No              No        One year   \n",
              "2                  No          No          No              No  Month-to-month   \n",
              "3                 Yes         Yes          No              No        One year   \n",
              "4                  No          No          No              No  Month-to-month   \n",
              "...               ...         ...         ...             ...             ...   \n",
              "7038              Yes         Yes         Yes             Yes        One year   \n",
              "7039              Yes          No         Yes             Yes        One year   \n",
              "7040               No          No          No              No  Month-to-month   \n",
              "7041               No          No          No              No  Month-to-month   \n",
              "7042              Yes         Yes         Yes             Yes        Two year   \n",
              "\n",
              "     PaperlessBilling              PaymentMethod MonthlyCharges  TotalCharges  \\\n",
              "0                 Yes           Electronic check          29.85         29.85   \n",
              "1                  No               Mailed check          56.95        1889.5   \n",
              "2                 Yes               Mailed check          53.85        108.15   \n",
              "3                  No  Bank transfer (automatic)          42.30       1840.75   \n",
              "4                 Yes           Electronic check          70.70        151.65   \n",
              "...               ...                        ...            ...           ...   \n",
              "7038              Yes               Mailed check          84.80        1990.5   \n",
              "7039              Yes    Credit card (automatic)         103.20        7362.9   \n",
              "7040              Yes           Electronic check          29.60        346.45   \n",
              "7041              Yes               Mailed check          74.40         306.6   \n",
              "7042              Yes  Bank transfer (automatic)         105.65        6844.5   \n",
              "\n",
              "     Churn  \n",
              "0       No  \n",
              "1       No  \n",
              "2      Yes  \n",
              "3       No  \n",
              "4      Yes  \n",
              "...    ...  \n",
              "7038    No  \n",
              "7039    No  \n",
              "7040    No  \n",
              "7041   Yes  \n",
              "7042    No  \n",
              "\n",
              "[7043 rows x 21 columns]>"
            ]
          },
          "metadata": {},
          "execution_count": 15
        }
      ]
    },
    {
      "cell_type": "code",
      "source": [
        "df.dtypes"
      ],
      "metadata": {
        "id": "nIaWxyVRNdy6",
        "outputId": "f2fd615e-9d37-4d80-8a9d-a05cafab3fda",
        "execution": {
          "iopub.status.busy": "2023-05-04T19:36:09.384672Z",
          "iopub.execute_input": "2023-05-04T19:36:09.385062Z",
          "iopub.status.idle": "2023-05-04T19:36:09.395694Z",
          "shell.execute_reply.started": "2023-05-04T19:36:09.385033Z",
          "shell.execute_reply": "2023-05-04T19:36:09.394312Z"
        },
        "trusted": true,
        "colab": {
          "base_uri": "https://localhost:8080/"
        }
      },
      "execution_count": null,
      "outputs": [
        {
          "output_type": "execute_result",
          "data": {
            "text/plain": [
              "customerID           object\n",
              "gender               object\n",
              "SeniorCitizen         int64\n",
              "Partner              object\n",
              "Dependents           object\n",
              "tenure                int64\n",
              "PhoneService         object\n",
              "MultipleLines        object\n",
              "InternetService      object\n",
              "OnlineSecurity       object\n",
              "OnlineBackup         object\n",
              "DeviceProtection     object\n",
              "TechSupport          object\n",
              "StreamingTV          object\n",
              "StreamingMovies      object\n",
              "Contract             object\n",
              "PaperlessBilling     object\n",
              "PaymentMethod        object\n",
              "MonthlyCharges      float64\n",
              "TotalCharges         object\n",
              "Churn                object\n",
              "dtype: object"
            ]
          },
          "metadata": {},
          "execution_count": 16
        }
      ]
    },
    {
      "cell_type": "code",
      "source": [
        "df.describe()"
      ],
      "metadata": {
        "colab": {
          "base_uri": "https://localhost:8080/"
        },
        "id": "xPYleVXy27gi",
        "outputId": "62b8eed9-a690-45ff-a8ce-e83b838cd24d"
      },
      "execution_count": null,
      "outputs": [
        {
          "output_type": "execute_result",
          "data": {
            "text/plain": [
              "       SeniorCitizen       tenure  MonthlyCharges\n",
              "count    7043.000000  7043.000000     7043.000000\n",
              "mean        0.162147    32.371149       64.761692\n",
              "std         0.368612    24.559481       30.090047\n",
              "min         0.000000     0.000000       18.250000\n",
              "25%         0.000000     9.000000       35.500000\n",
              "50%         0.000000    29.000000       70.350000\n",
              "75%         0.000000    55.000000       89.850000\n",
              "max         1.000000    72.000000      118.750000"
            ],
            "text/html": [
              "\n",
              "  <div id=\"df-d6c46d95-3abb-41a6-9dfa-f5d1c75bf2bd\">\n",
              "    <div class=\"colab-df-container\">\n",
              "      <div>\n",
              "<style scoped>\n",
              "    .dataframe tbody tr th:only-of-type {\n",
              "        vertical-align: middle;\n",
              "    }\n",
              "\n",
              "    .dataframe tbody tr th {\n",
              "        vertical-align: top;\n",
              "    }\n",
              "\n",
              "    .dataframe thead th {\n",
              "        text-align: right;\n",
              "    }\n",
              "</style>\n",
              "<table border=\"1\" class=\"dataframe\">\n",
              "  <thead>\n",
              "    <tr style=\"text-align: right;\">\n",
              "      <th></th>\n",
              "      <th>SeniorCitizen</th>\n",
              "      <th>tenure</th>\n",
              "      <th>MonthlyCharges</th>\n",
              "    </tr>\n",
              "  </thead>\n",
              "  <tbody>\n",
              "    <tr>\n",
              "      <th>count</th>\n",
              "      <td>7043.000000</td>\n",
              "      <td>7043.000000</td>\n",
              "      <td>7043.000000</td>\n",
              "    </tr>\n",
              "    <tr>\n",
              "      <th>mean</th>\n",
              "      <td>0.162147</td>\n",
              "      <td>32.371149</td>\n",
              "      <td>64.761692</td>\n",
              "    </tr>\n",
              "    <tr>\n",
              "      <th>std</th>\n",
              "      <td>0.368612</td>\n",
              "      <td>24.559481</td>\n",
              "      <td>30.090047</td>\n",
              "    </tr>\n",
              "    <tr>\n",
              "      <th>min</th>\n",
              "      <td>0.000000</td>\n",
              "      <td>0.000000</td>\n",
              "      <td>18.250000</td>\n",
              "    </tr>\n",
              "    <tr>\n",
              "      <th>25%</th>\n",
              "      <td>0.000000</td>\n",
              "      <td>9.000000</td>\n",
              "      <td>35.500000</td>\n",
              "    </tr>\n",
              "    <tr>\n",
              "      <th>50%</th>\n",
              "      <td>0.000000</td>\n",
              "      <td>29.000000</td>\n",
              "      <td>70.350000</td>\n",
              "    </tr>\n",
              "    <tr>\n",
              "      <th>75%</th>\n",
              "      <td>0.000000</td>\n",
              "      <td>55.000000</td>\n",
              "      <td>89.850000</td>\n",
              "    </tr>\n",
              "    <tr>\n",
              "      <th>max</th>\n",
              "      <td>1.000000</td>\n",
              "      <td>72.000000</td>\n",
              "      <td>118.750000</td>\n",
              "    </tr>\n",
              "  </tbody>\n",
              "</table>\n",
              "</div>\n",
              "      <button class=\"colab-df-convert\" onclick=\"convertToInteractive('df-d6c46d95-3abb-41a6-9dfa-f5d1c75bf2bd')\"\n",
              "              title=\"Convert this dataframe to an interactive table.\"\n",
              "              style=\"display:none;\">\n",
              "        \n",
              "  <svg xmlns=\"http://www.w3.org/2000/svg\" height=\"24px\"viewBox=\"0 0 24 24\"\n",
              "       width=\"24px\">\n",
              "    <path d=\"M0 0h24v24H0V0z\" fill=\"none\"/>\n",
              "    <path d=\"M18.56 5.44l.94 2.06.94-2.06 2.06-.94-2.06-.94-.94-2.06-.94 2.06-2.06.94zm-11 1L8.5 8.5l.94-2.06 2.06-.94-2.06-.94L8.5 2.5l-.94 2.06-2.06.94zm10 10l.94 2.06.94-2.06 2.06-.94-2.06-.94-.94-2.06-.94 2.06-2.06.94z\"/><path d=\"M17.41 7.96l-1.37-1.37c-.4-.4-.92-.59-1.43-.59-.52 0-1.04.2-1.43.59L10.3 9.45l-7.72 7.72c-.78.78-.78 2.05 0 2.83L4 21.41c.39.39.9.59 1.41.59.51 0 1.02-.2 1.41-.59l7.78-7.78 2.81-2.81c.8-.78.8-2.07 0-2.86zM5.41 20L4 18.59l7.72-7.72 1.47 1.35L5.41 20z\"/>\n",
              "  </svg>\n",
              "      </button>\n",
              "      \n",
              "  <style>\n",
              "    .colab-df-container {\n",
              "      display:flex;\n",
              "      flex-wrap:wrap;\n",
              "      gap: 12px;\n",
              "    }\n",
              "\n",
              "    .colab-df-convert {\n",
              "      background-color: #E8F0FE;\n",
              "      border: none;\n",
              "      border-radius: 50%;\n",
              "      cursor: pointer;\n",
              "      display: none;\n",
              "      fill: #1967D2;\n",
              "      height: 32px;\n",
              "      padding: 0 0 0 0;\n",
              "      width: 32px;\n",
              "    }\n",
              "\n",
              "    .colab-df-convert:hover {\n",
              "      background-color: #E2EBFA;\n",
              "      box-shadow: 0px 1px 2px rgba(60, 64, 67, 0.3), 0px 1px 3px 1px rgba(60, 64, 67, 0.15);\n",
              "      fill: #174EA6;\n",
              "    }\n",
              "\n",
              "    [theme=dark] .colab-df-convert {\n",
              "      background-color: #3B4455;\n",
              "      fill: #D2E3FC;\n",
              "    }\n",
              "\n",
              "    [theme=dark] .colab-df-convert:hover {\n",
              "      background-color: #434B5C;\n",
              "      box-shadow: 0px 1px 3px 1px rgba(0, 0, 0, 0.15);\n",
              "      filter: drop-shadow(0px 1px 2px rgba(0, 0, 0, 0.3));\n",
              "      fill: #FFFFFF;\n",
              "    }\n",
              "  </style>\n",
              "\n",
              "      <script>\n",
              "        const buttonEl =\n",
              "          document.querySelector('#df-d6c46d95-3abb-41a6-9dfa-f5d1c75bf2bd button.colab-df-convert');\n",
              "        buttonEl.style.display =\n",
              "          google.colab.kernel.accessAllowed ? 'block' : 'none';\n",
              "\n",
              "        async function convertToInteractive(key) {\n",
              "          const element = document.querySelector('#df-d6c46d95-3abb-41a6-9dfa-f5d1c75bf2bd');\n",
              "          const dataTable =\n",
              "            await google.colab.kernel.invokeFunction('convertToInteractive',\n",
              "                                                     [key], {});\n",
              "          if (!dataTable) return;\n",
              "\n",
              "          const docLinkHtml = 'Like what you see? Visit the ' +\n",
              "            '<a target=\"_blank\" href=https://colab.research.google.com/notebooks/data_table.ipynb>data table notebook</a>'\n",
              "            + ' to learn more about interactive tables.';\n",
              "          element.innerHTML = '';\n",
              "          dataTable['output_type'] = 'display_data';\n",
              "          await google.colab.output.renderOutput(dataTable, element);\n",
              "          const docLink = document.createElement('div');\n",
              "          docLink.innerHTML = docLinkHtml;\n",
              "          element.appendChild(docLink);\n",
              "        }\n",
              "      </script>\n",
              "    </div>\n",
              "  </div>\n",
              "  "
            ]
          },
          "metadata": {},
          "execution_count": 17
        }
      ]
    },
    {
      "cell_type": "code",
      "source": [
        "df.isnull().sum()"
      ],
      "metadata": {
        "id": "_yf17M-JNdy9",
        "outputId": "f85f5f19-7f7e-4ad5-f7c1-622e32f44cb7",
        "execution": {
          "iopub.status.busy": "2023-05-04T19:36:10.821576Z",
          "iopub.execute_input": "2023-05-04T19:36:10.822012Z",
          "iopub.status.idle": "2023-05-04T19:36:10.834177Z",
          "shell.execute_reply.started": "2023-05-04T19:36:10.821979Z",
          "shell.execute_reply": "2023-05-04T19:36:10.832987Z"
        },
        "trusted": true,
        "colab": {
          "base_uri": "https://localhost:8080/"
        }
      },
      "execution_count": null,
      "outputs": [
        {
          "output_type": "execute_result",
          "data": {
            "text/plain": [
              "customerID          0\n",
              "gender              0\n",
              "SeniorCitizen       0\n",
              "Partner             0\n",
              "Dependents          0\n",
              "tenure              0\n",
              "PhoneService        0\n",
              "MultipleLines       0\n",
              "InternetService     0\n",
              "OnlineSecurity      0\n",
              "OnlineBackup        0\n",
              "DeviceProtection    0\n",
              "TechSupport         0\n",
              "StreamingTV         0\n",
              "StreamingMovies     0\n",
              "Contract            0\n",
              "PaperlessBilling    0\n",
              "PaymentMethod       0\n",
              "MonthlyCharges      0\n",
              "TotalCharges        0\n",
              "Churn               0\n",
              "dtype: int64"
            ]
          },
          "metadata": {},
          "execution_count": 18
        }
      ]
    },
    {
      "cell_type": "code",
      "source": [
        "df.duplicated().sum()"
      ],
      "metadata": {
        "id": "s2dp-vVLNdy-",
        "outputId": "178127fa-719a-432d-e5ca-ba37521c408f",
        "execution": {
          "iopub.status.busy": "2023-05-04T19:36:11.494215Z",
          "iopub.execute_input": "2023-05-04T19:36:11.49569Z",
          "iopub.status.idle": "2023-05-04T19:36:11.510866Z",
          "shell.execute_reply.started": "2023-05-04T19:36:11.495643Z",
          "shell.execute_reply": "2023-05-04T19:36:11.510015Z"
        },
        "trusted": true,
        "colab": {
          "base_uri": "https://localhost:8080/"
        }
      },
      "execution_count": null,
      "outputs": [
        {
          "output_type": "execute_result",
          "data": {
            "text/plain": [
              "0"
            ]
          },
          "metadata": {},
          "execution_count": 19
        }
      ]
    },
    {
      "cell_type": "code",
      "source": [
        "df.dropna(how=\"any\",inplace=True)"
      ],
      "metadata": {
        "id": "xA0xRUwGNdzC",
        "execution": {
          "iopub.status.busy": "2023-05-04T19:36:12.291541Z",
          "iopub.execute_input": "2023-05-04T19:36:12.291932Z",
          "iopub.status.idle": "2023-05-04T19:36:12.302771Z",
          "shell.execute_reply.started": "2023-05-04T19:36:12.291901Z",
          "shell.execute_reply": "2023-05-04T19:36:12.301592Z"
        },
        "trusted": true
      },
      "execution_count": null,
      "outputs": []
    },
    {
      "cell_type": "code",
      "source": [
        "df.shape"
      ],
      "metadata": {
        "id": "JikNl04XNdzE",
        "outputId": "3894cb45-4715-4678-a315-285dac7706e2",
        "execution": {
          "iopub.status.busy": "2023-05-04T19:36:13.443888Z",
          "iopub.execute_input": "2023-05-04T19:36:13.444335Z",
          "iopub.status.idle": "2023-05-04T19:36:13.452201Z",
          "shell.execute_reply.started": "2023-05-04T19:36:13.444303Z",
          "shell.execute_reply": "2023-05-04T19:36:13.45098Z"
        },
        "trusted": true,
        "colab": {
          "base_uri": "https://localhost:8080/"
        }
      },
      "execution_count": null,
      "outputs": [
        {
          "output_type": "execute_result",
          "data": {
            "text/plain": [
              "(7043, 21)"
            ]
          },
          "metadata": {},
          "execution_count": 21
        }
      ]
    },
    {
      "cell_type": "code",
      "source": [
        "df.isnull().sum()"
      ],
      "metadata": {
        "id": "N91gqHj2NdzJ",
        "outputId": "bb70785f-97a6-4d88-a532-f5ecf0fcdc34",
        "execution": {
          "iopub.status.busy": "2023-05-04T19:36:14.136722Z",
          "iopub.execute_input": "2023-05-04T19:36:14.137125Z",
          "iopub.status.idle": "2023-05-04T19:36:14.147534Z",
          "shell.execute_reply.started": "2023-05-04T19:36:14.137094Z",
          "shell.execute_reply": "2023-05-04T19:36:14.146619Z"
        },
        "trusted": true,
        "colab": {
          "base_uri": "https://localhost:8080/"
        }
      },
      "execution_count": null,
      "outputs": [
        {
          "output_type": "execute_result",
          "data": {
            "text/plain": [
              "customerID          0\n",
              "gender              0\n",
              "SeniorCitizen       0\n",
              "Partner             0\n",
              "Dependents          0\n",
              "tenure              0\n",
              "PhoneService        0\n",
              "MultipleLines       0\n",
              "InternetService     0\n",
              "OnlineSecurity      0\n",
              "OnlineBackup        0\n",
              "DeviceProtection    0\n",
              "TechSupport         0\n",
              "StreamingTV         0\n",
              "StreamingMovies     0\n",
              "Contract            0\n",
              "PaperlessBilling    0\n",
              "PaymentMethod       0\n",
              "MonthlyCharges      0\n",
              "TotalCharges        0\n",
              "Churn               0\n",
              "dtype: int64"
            ]
          },
          "metadata": {},
          "execution_count": 22
        }
      ]
    },
    {
      "cell_type": "code",
      "source": [
        "df.columns.values"
      ],
      "metadata": {
        "id": "ut1Y3-wTNdzL",
        "outputId": "2f48459f-3b17-4f91-94fa-10519a13f83c",
        "execution": {
          "iopub.status.busy": "2023-05-04T19:36:16.388561Z",
          "iopub.execute_input": "2023-05-04T19:36:16.389092Z",
          "iopub.status.idle": "2023-05-04T19:36:16.397573Z",
          "shell.execute_reply.started": "2023-05-04T19:36:16.389055Z",
          "shell.execute_reply": "2023-05-04T19:36:16.395941Z"
        },
        "trusted": true,
        "colab": {
          "base_uri": "https://localhost:8080/"
        }
      },
      "execution_count": null,
      "outputs": [
        {
          "output_type": "execute_result",
          "data": {
            "text/plain": [
              "array(['customerID', 'gender', 'SeniorCitizen', 'Partner', 'Dependents',\n",
              "       'tenure', 'PhoneService', 'MultipleLines', 'InternetService',\n",
              "       'OnlineSecurity', 'OnlineBackup', 'DeviceProtection',\n",
              "       'TechSupport', 'StreamingTV', 'StreamingMovies', 'Contract',\n",
              "       'PaperlessBilling', 'PaymentMethod', 'MonthlyCharges',\n",
              "       'TotalCharges', 'Churn'], dtype=object)"
            ]
          },
          "metadata": {},
          "execution_count": 23
        }
      ]
    },
    {
      "cell_type": "code",
      "source": [
        "df.TotalCharges = pd.to_numeric(df.TotalCharges, errors='coerce') #converting TotalCharges data type "
      ],
      "metadata": {
        "id": "5jja5AQZNdzS",
        "execution": {
          "iopub.status.busy": "2023-05-04T19:36:25.003474Z",
          "iopub.execute_input": "2023-05-04T19:36:25.003972Z",
          "iopub.status.idle": "2023-05-04T19:36:25.010917Z",
          "shell.execute_reply.started": "2023-05-04T19:36:25.003938Z",
          "shell.execute_reply": "2023-05-04T19:36:25.009652Z"
        },
        "trusted": true
      },
      "execution_count": null,
      "outputs": []
    },
    {
      "cell_type": "code",
      "source": [
        "df.isnull().sum()"
      ],
      "metadata": {
        "id": "A5JfEZEJNdzU",
        "outputId": "67b91f3c-0312-466c-c7e6-fbda144b968f",
        "execution": {
          "iopub.status.busy": "2023-05-04T19:36:27.919144Z",
          "iopub.execute_input": "2023-05-04T19:36:27.919643Z",
          "iopub.status.idle": "2023-05-04T19:36:27.932812Z",
          "shell.execute_reply.started": "2023-05-04T19:36:27.919573Z",
          "shell.execute_reply": "2023-05-04T19:36:27.93127Z"
        },
        "trusted": true,
        "colab": {
          "base_uri": "https://localhost:8080/"
        }
      },
      "execution_count": null,
      "outputs": [
        {
          "output_type": "execute_result",
          "data": {
            "text/plain": [
              "customerID           0\n",
              "gender               0\n",
              "SeniorCitizen        0\n",
              "Partner              0\n",
              "Dependents           0\n",
              "tenure               0\n",
              "PhoneService         0\n",
              "MultipleLines        0\n",
              "InternetService      0\n",
              "OnlineSecurity       0\n",
              "OnlineBackup         0\n",
              "DeviceProtection     0\n",
              "TechSupport          0\n",
              "StreamingTV          0\n",
              "StreamingMovies      0\n",
              "Contract             0\n",
              "PaperlessBilling     0\n",
              "PaymentMethod        0\n",
              "MonthlyCharges       0\n",
              "TotalCharges        11\n",
              "Churn                0\n",
              "dtype: int64"
            ]
          },
          "metadata": {},
          "execution_count": 25
        }
      ]
    },
    {
      "cell_type": "code",
      "source": [
        "df.dropna(how=\"any\",inplace=True) #dropping null value "
      ],
      "metadata": {
        "id": "Z-A4VgelNdzV",
        "execution": {
          "iopub.status.busy": "2023-05-04T19:36:31.832472Z",
          "iopub.execute_input": "2023-05-04T19:36:31.833307Z",
          "iopub.status.idle": "2023-05-04T19:36:31.84551Z",
          "shell.execute_reply.started": "2023-05-04T19:36:31.833264Z",
          "shell.execute_reply": "2023-05-04T19:36:31.843877Z"
        },
        "trusted": true
      },
      "execution_count": null,
      "outputs": []
    },
    {
      "cell_type": "code",
      "source": [
        "df.isnull().sum()"
      ],
      "metadata": {
        "id": "AFy9G-_TNdzW",
        "outputId": "7ec477b8-d624-4c14-bdc5-bd7da534ebbd",
        "execution": {
          "iopub.status.busy": "2023-05-04T19:36:32.875588Z",
          "iopub.execute_input": "2023-05-04T19:36:32.876029Z",
          "iopub.status.idle": "2023-05-04T19:36:32.887405Z",
          "shell.execute_reply.started": "2023-05-04T19:36:32.875998Z",
          "shell.execute_reply": "2023-05-04T19:36:32.886122Z"
        },
        "trusted": true,
        "colab": {
          "base_uri": "https://localhost:8080/"
        }
      },
      "execution_count": null,
      "outputs": [
        {
          "output_type": "execute_result",
          "data": {
            "text/plain": [
              "customerID          0\n",
              "gender              0\n",
              "SeniorCitizen       0\n",
              "Partner             0\n",
              "Dependents          0\n",
              "tenure              0\n",
              "PhoneService        0\n",
              "MultipleLines       0\n",
              "InternetService     0\n",
              "OnlineSecurity      0\n",
              "OnlineBackup        0\n",
              "DeviceProtection    0\n",
              "TechSupport         0\n",
              "StreamingTV         0\n",
              "StreamingMovies     0\n",
              "Contract            0\n",
              "PaperlessBilling    0\n",
              "PaymentMethod       0\n",
              "MonthlyCharges      0\n",
              "TotalCharges        0\n",
              "Churn               0\n",
              "dtype: int64"
            ]
          },
          "metadata": {},
          "execution_count": 27
        }
      ]
    },
    {
      "cell_type": "markdown",
      "source": [
        "# LabelEncoder apply to convert category data to numreic data\n",
        "\n",
        "\n"
      ],
      "metadata": {
        "id": "CRtlOH4vQKTn"
      }
    },
    {
      "cell_type": "code",
      "source": [
        "encoder = LabelEncoder()\n",
        "df['Churn'] = encoder.fit_transform(df['Churn'])\n"
      ],
      "metadata": {
        "id": "cHNrkNSINdzZ",
        "execution": {
          "iopub.status.busy": "2023-05-04T19:36:37.349818Z",
          "iopub.execute_input": "2023-05-04T19:36:37.350223Z",
          "iopub.status.idle": "2023-05-04T19:36:37.360476Z",
          "shell.execute_reply.started": "2023-05-04T19:36:37.350193Z",
          "shell.execute_reply": "2023-05-04T19:36:37.359525Z"
        },
        "trusted": true
      },
      "execution_count": null,
      "outputs": []
    },
    {
      "cell_type": "code",
      "source": [
        "df['PaymentMethod'] = encoder.fit_transform(df['PaymentMethod'])\n",
        "print({index : label for index, label in enumerate(encoder.classes_)})"
      ],
      "metadata": {
        "colab": {
          "base_uri": "https://localhost:8080/"
        },
        "id": "mc_mu187lYcD",
        "outputId": "8038a347-c9c7-4b40-95ba-90da322da341"
      },
      "execution_count": null,
      "outputs": [
        {
          "output_type": "stream",
          "name": "stdout",
          "text": [
            "{0: 'Bank transfer (automatic)', 1: 'Credit card (automatic)', 2: 'Electronic check', 3: 'Mailed check'}\n"
          ]
        }
      ]
    },
    {
      "cell_type": "code",
      "source": [
        "df['customerID'] = encoder.fit_transform(df['customerID'])\n",
        "df['gender'] = encoder.fit_transform(df['gender'])\n",
        "df['Partner'] = encoder.fit_transform(df['Partner'])\n",
        "df['Dependents'] = encoder.fit_transform(df['Dependents'])\n",
        "df['PhoneService'] = encoder.fit_transform(df['PhoneService'])\n",
        "df['MultipleLines'] = encoder.fit_transform(df['MultipleLines'])\n",
        "df['InternetService'] = encoder.fit_transform(df['InternetService'])\n",
        "df['OnlineSecurity'] = encoder.fit_transform(df['OnlineSecurity'])\n",
        "df['OnlineBackup'] = encoder.fit_transform(df['OnlineSecurity'])\n",
        "df['DeviceProtection'] = encoder.fit_transform(df['DeviceProtection'])\n",
        "df['TechSupport'] = encoder.fit_transform(df['TechSupport'])\n",
        "df['StreamingTV'] = encoder.fit_transform(df['StreamingTV'])\n",
        "df['StreamingMovies'] = encoder.fit_transform(df['StreamingMovies'])\n",
        "df['Contract'] = encoder.fit_transform(df['Contract'])\n",
        "df['PaperlessBilling'] = encoder.fit_transform(df['PaperlessBilling'])"
      ],
      "metadata": {
        "id": "-FV8V7pSNdzb",
        "execution": {
          "iopub.status.busy": "2023-05-04T19:36:40.404121Z",
          "iopub.execute_input": "2023-05-04T19:36:40.404541Z",
          "iopub.status.idle": "2023-05-04T19:36:40.443899Z",
          "shell.execute_reply.started": "2023-05-04T19:36:40.404512Z",
          "shell.execute_reply": "2023-05-04T19:36:40.442618Z"
        },
        "trusted": true
      },
      "execution_count": null,
      "outputs": []
    },
    {
      "cell_type": "code",
      "source": [
        "y = df['Churn'].values\n",
        "X = df.drop(columns = ['Churn'])"
      ],
      "metadata": {
        "id": "PV-DIVAkNd0T",
        "execution": {
          "iopub.status.busy": "2023-05-04T19:37:09.057881Z",
          "iopub.execute_input": "2023-05-04T19:37:09.058314Z",
          "iopub.status.idle": "2023-05-04T19:37:09.065632Z",
          "shell.execute_reply.started": "2023-05-04T19:37:09.058278Z",
          "shell.execute_reply": "2023-05-04T19:37:09.064471Z"
        },
        "trusted": true
      },
      "execution_count": null,
      "outputs": []
    },
    {
      "cell_type": "code",
      "source": [
        "scaler = MinMaxScaler(copy=True, feature_range=(0, 1)) #normalize\n",
        "X = scaler.fit_transform(X)\n",
        "\n",
        "#showing data\n",
        "print('x \\n' , X[:10])\n",
        "print('y \\n' , y[:10])\n"
      ],
      "metadata": {
        "id": "4LZxDZOENd0V",
        "outputId": "838b7f48-7e89-45de-a51d-f188cee7e2f0",
        "execution": {
          "iopub.status.busy": "2023-05-04T19:37:11.786482Z",
          "iopub.execute_input": "2023-05-04T19:37:11.786886Z",
          "iopub.status.idle": "2023-05-04T19:37:11.806476Z",
          "shell.execute_reply.started": "2023-05-04T19:37:11.786853Z",
          "shell.execute_reply": "2023-05-04T19:37:11.804964Z"
        },
        "trusted": true,
        "colab": {
          "base_uri": "https://localhost:8080/"
        }
      },
      "execution_count": null,
      "outputs": [
        {
          "output_type": "stream",
          "name": "stdout",
          "text": [
            "x \n",
            " [[0.76304935 0.         0.         1.         0.         0.\n",
            "  0.         0.5        0.         0.         0.         0.\n",
            "  0.         0.         0.         0.         1.         0.66666667\n",
            "  0.11542289 0.0012751 ]\n",
            " [0.56222443 1.         0.         0.         0.         0.46478873\n",
            "  1.         0.         0.         1.         1.         1.\n",
            "  0.         0.         0.         0.5        0.         1.\n",
            "  0.38507463 0.21586661]\n",
            " [0.36381738 1.         0.         0.         0.         0.01408451\n",
            "  1.         0.         0.         1.         1.         0.\n",
            "  0.         0.         0.         0.         1.         1.\n",
            "  0.35422886 0.01031041]\n",
            " [0.78566349 1.         0.         0.         0.         0.61971831\n",
            "  0.         0.5        0.         1.         1.         1.\n",
            "  1.         0.         0.         0.5        0.         0.\n",
            "  0.23930348 0.21024117]\n",
            " [0.92447731 0.         0.         0.         0.         0.01408451\n",
            "  1.         0.         0.5        0.         0.         0.\n",
            "  0.         0.         0.         0.         1.         0.66666667\n",
            "  0.52189055 0.01533003]\n",
            " [0.93016641 0.         0.         0.         0.         0.09859155\n",
            "  1.         1.         0.5        0.         0.         1.\n",
            "  0.         1.         1.         0.         1.         0.66666667\n",
            "  0.80995025 0.09251096]\n",
            " [0.14236951 1.         0.         0.         1.         0.29577465\n",
            "  1.         1.         0.5        0.         0.         0.\n",
            "  0.         1.         0.         0.         1.         0.33333333\n",
            "  0.70497512 0.22277868]\n",
            " [0.67700185 0.         0.         0.         0.         0.12676056\n",
            "  0.         0.5        0.         1.         1.         0.\n",
            "  0.         0.         0.         0.         0.         1.\n",
            "  0.11442786 0.0326679 ]\n",
            " [0.79547717 0.         0.         1.         0.         0.38028169\n",
            "  1.         1.         0.5        0.         0.         1.\n",
            "  1.         1.         1.         0.         1.         0.66666667\n",
            "  0.86119403 0.34932495]\n",
            " [0.64343621 1.         0.         0.         1.         0.85915493\n",
            "  1.         0.         0.         1.         1.         0.\n",
            "  0.         0.         0.         0.5        0.         0.\n",
            "  0.37711443 0.40031733]]\n",
            "y \n",
            " [0 0 1 0 1 1 0 0 1 0]\n"
          ]
        }
      ]
    },
    {
      "cell_type": "markdown",
      "source": [
        "# Test and train dataset"
      ],
      "metadata": {
        "id": "rWp_UKpPP0Ky"
      }
    },
    {
      "cell_type": "code",
      "source": [
        "X_train,X_test,y_train,y_test=train_test_split(X,y,test_size=30,random_state=0)"
      ],
      "metadata": {
        "id": "-Dwu8_WKNd0W",
        "execution": {
          "iopub.status.busy": "2023-05-04T19:37:14.318815Z",
          "iopub.execute_input": "2023-05-04T19:37:14.319201Z",
          "iopub.status.idle": "2023-05-04T19:37:14.326608Z",
          "shell.execute_reply.started": "2023-05-04T19:37:14.319173Z",
          "shell.execute_reply": "2023-05-04T19:37:14.325131Z"
        },
        "trusted": true
      },
      "execution_count": null,
      "outputs": []
    },
    {
      "cell_type": "markdown",
      "source": [
        "# LogisticRegression"
      ],
      "metadata": {
        "id": "FG0PxFW46F47"
      }
    },
    {
      "cell_type": "code",
      "source": [
        "LogisticRegressionModel = LogisticRegression(penalty='l2',solver='sag',C=1.0,random_state=33)\n",
        "LogisticRegressionModel.fit(X_train, y_train)\n",
        "\n",
        "#Calculating Details\n",
        "print('Train Score is : ' , LogisticRegressionModel.score(X_train, y_train))\n",
        "print('Test Score is : ' , LogisticRegressionModel.score(X_test, y_test))\n",
        "print('Classes are : ' , LogisticRegressionModel.classes_)\n",
        "print('No. of iteratios is : ' , LogisticRegressionModel.n_iter_)\n",
        "#Calculating Prediction\n",
        "y_pred = LogisticRegressionModel.predict(X_test)\n",
        "#y_pred_prob = LogisticRegressionModel.predict_proba(X_test)\n",
        "#print('Predicted Value : ' , y_pred[:10])\n",
        "#print('Prediction Probabilities Value : ' , y_pred_prob[:10])"
      ],
      "metadata": {
        "id": "z2NvPW2QNd0Z",
        "outputId": "e2b062dc-b735-41fd-db4c-5c3f3513f7f8",
        "execution": {
          "iopub.status.busy": "2023-05-04T19:37:21.955426Z",
          "iopub.execute_input": "2023-05-04T19:37:21.955807Z",
          "iopub.status.idle": "2023-05-04T19:37:22.065752Z",
          "shell.execute_reply.started": "2023-05-04T19:37:21.955779Z",
          "shell.execute_reply": "2023-05-04T19:37:22.063967Z"
        },
        "trusted": true,
        "colab": {
          "base_uri": "https://localhost:8080/"
        }
      },
      "execution_count": null,
      "outputs": [
        {
          "output_type": "stream",
          "name": "stdout",
          "text": [
            "Train Score is :  0.8056269637246501\n",
            "Test Score is :  0.8333333333333334\n",
            "Classes are :  [0 1]\n",
            "No. of iteratios is :  [28]\n"
          ]
        }
      ]
    },
    {
      "cell_type": "markdown",
      "source": [
        " **Model accuracy**"
      ],
      "metadata": {
        "id": "akWDKMR0PeXI"
      }
    },
    {
      "cell_type": "code",
      "source": [
        "prediction_test = LogisticRegressionModel.predict(X_test)\n",
        "# Prediction accuracy\n",
        "print (metrics.accuracy_score(y_test, prediction_test))"
      ],
      "metadata": {
        "id": "_qvMK6tJNd0a",
        "outputId": "61737e66-b818-4b00-9fa0-b6e9fa42629f",
        "execution": {
          "iopub.status.busy": "2023-05-04T19:37:23.902114Z",
          "iopub.execute_input": "2023-05-04T19:37:23.902543Z",
          "iopub.status.idle": "2023-05-04T19:37:23.910228Z",
          "shell.execute_reply.started": "2023-05-04T19:37:23.9025Z",
          "shell.execute_reply": "2023-05-04T19:37:23.909399Z"
        },
        "trusted": true,
        "colab": {
          "base_uri": "https://localhost:8080/"
        }
      },
      "execution_count": null,
      "outputs": [
        {
          "output_type": "stream",
          "name": "stdout",
          "text": [
            "0.8333333333333334\n"
          ]
        }
      ]
    },
    {
      "cell_type": "code",
      "source": [
        "#Confusion_matrix\n",
        "y_pred = LogisticRegressionModel.predict(X_test)\n",
        "CM = confusion_matrix(y_test, y_pred)\n",
        "tn, fp, fn, tp = confusion_matrix(y_test, y_pred).ravel()\n",
        "print (\"Tp\" + str(tp))\n",
        "print (\"tn\" +str(tn))\n",
        "print (\"fp\" +str(fp))\n",
        "print (\"fn\" +str(fn))\n",
        "#CM_display = ConfusionMatrixDisplay(CM).plot()"
      ],
      "metadata": {
        "id": "hWH-obsTO94V",
        "outputId": "d9356daf-5277-4b49-f027-eb6185552e6d",
        "execution": {
          "iopub.status.busy": "2023-05-04T19:37:37.443713Z",
          "iopub.execute_input": "2023-05-04T19:37:37.444088Z",
          "iopub.status.idle": "2023-05-04T19:37:38.008877Z",
          "shell.execute_reply.started": "2023-05-04T19:37:37.44406Z",
          "shell.execute_reply": "2023-05-04T19:37:38.007333Z"
        },
        "trusted": true,
        "colab": {
          "base_uri": "https://localhost:8080/"
        }
      },
      "execution_count": null,
      "outputs": [
        {
          "output_type": "stream",
          "name": "stdout",
          "text": [
            "Tp5\n",
            "tn20\n",
            "fp1\n",
            "fn4\n"
          ]
        }
      ]
    },
    {
      "cell_type": "code",
      "source": [
        "print(classification_report(y_test, y_pred))"
      ],
      "metadata": {
        "id": "azKUZ_Z9Q9g3",
        "outputId": "820014f2-6747-423e-85f6-e237e12abe71",
        "execution": {
          "iopub.status.busy": "2023-05-04T19:37:45.585548Z",
          "iopub.execute_input": "2023-05-04T19:37:45.585965Z",
          "iopub.status.idle": "2023-05-04T19:37:45.59897Z",
          "shell.execute_reply.started": "2023-05-04T19:37:45.585932Z",
          "shell.execute_reply": "2023-05-04T19:37:45.597956Z"
        },
        "trusted": true,
        "colab": {
          "base_uri": "https://localhost:8080/"
        }
      },
      "execution_count": null,
      "outputs": [
        {
          "output_type": "stream",
          "name": "stdout",
          "text": [
            "              precision    recall  f1-score   support\n",
            "\n",
            "           0       0.83      0.95      0.89        21\n",
            "           1       0.83      0.56      0.67         9\n",
            "\n",
            "    accuracy                           0.83        30\n",
            "   macro avg       0.83      0.75      0.78        30\n",
            "weighted avg       0.83      0.83      0.82        30\n",
            "\n"
          ]
        }
      ]
    },
    {
      "cell_type": "markdown",
      "source": [
        "# RandomForestClassifier"
      ],
      "metadata": {
        "id": "02a7H-yH8PlH"
      }
    },
    {
      "cell_type": "code",
      "source": [
        "X_train, X_test, y_train, y_test = train_test_split(X, y, test_size=0.3, random_state=101)\n",
        "model_rf = RandomForestClassifier(n_estimators=1000 , oob_score = True, n_jobs = -1,\n",
        "                                  random_state =50,\n",
        "                                  max_leaf_nodes = 30)\n",
        "model_rf.fit(X_train, y_train)\n",
        "\n",
        "# Make predictions\n",
        "y_pred = model_rf.predict(X_test)\n",
        "print (metrics.accuracy_score(y_test, y_pred))\n",
        "CM = confusion_matrix(y_test, y_pred)\n",
        "CM_display = ConfusionMatrixDisplay(CM).plot()\n",
        "print(classification_report(y_test, y_pred))\n"
      ],
      "metadata": {
        "colab": {
          "base_uri": "https://localhost:8080/",
          "height": 623
        },
        "id": "w5B4hTAvoCiO",
        "outputId": "1d87d74e-bd3c-483d-e9ee-aca610333036"
      },
      "execution_count": null,
      "outputs": [
        {
          "output_type": "stream",
          "name": "stdout",
          "text": [
            "0.8127962085308057\n",
            "              precision    recall  f1-score   support\n",
            "\n",
            "           0       0.84      0.92      0.88      1580\n",
            "           1       0.68      0.49      0.57       530\n",
            "\n",
            "    accuracy                           0.81      2110\n",
            "   macro avg       0.76      0.70      0.72      2110\n",
            "weighted avg       0.80      0.81      0.80      2110\n",
            "\n"
          ]
        },
        {
          "output_type": "display_data",
          "data": {
            "text/plain": [
              "<Figure size 640x480 with 2 Axes>"
            ],
            "image/png": "[encoded data removed]"
          },
          "metadata": {}
        }
      ]
    },
    {
      "cell_type": "code",
      "source": [
        "tn, fp, fn, tp = confusion_matrix(y_test, y_pred).ravel()\n",
        "print (\"Tp\" + str(tp))\n",
        "print (\"tn\" +str(tn))\n",
        "print (\"fp\" +str(fp))\n",
        "print (\"fn\" +str(fn))"
      ],
      "metadata": {
        "colab": {
          "base_uri": "https://localhost:8080/"
        },
        "id": "b7lttx9YGULw",
        "outputId": "bce1798e-619b-479e-9660-a698f104db94"
      },
      "execution_count": null,
      "outputs": [
        {
          "output_type": "stream",
          "name": "stdout",
          "text": [
            "Tp258\n",
            "tn1457\n",
            "fp123\n",
            "fn272\n"
          ]
        }
      ]
    },
    {
      "cell_type": "markdown",
      "source": [
        "# SVC"
      ],
      "metadata": {
        "id": "xdatoD0v8lA9"
      }
    },
    {
      "cell_type": "code",
      "source": [
        "X_train, X_test, y_train, y_test = train_test_split(X, y, test_size=0.2, random_state=99)\n",
        "svm = SVC(kernel='linear') \n",
        "svm.fit(X_train,y_train)\n",
        "y_pred = svm.predict(X_test)\n",
        "metrics.accuracy_score(y_test, y_pred)\n",
        "print (metrics.accuracy_score(y_test, y_pred))\n",
        "CM = confusion_matrix(y_test, y_pred)\n",
        "CM_display = ConfusionMatrixDisplay(CM).plot()\n",
        "print(classification_report(y_test, y_pred))\n"
      ],
      "metadata": {
        "colab": {
          "base_uri": "https://localhost:8080/",
          "height": 623
        },
        "id": "sphkqPy7ovmE",
        "outputId": "cb316648-6b14-4885-fc50-8289250adcde"
      },
      "execution_count": null,
      "outputs": [
        {
          "output_type": "stream",
          "name": "stdout",
          "text": [
            "0.8095238095238095\n",
            "              precision    recall  f1-score   support\n",
            "\n",
            "           0       0.85      0.90      0.88      1042\n",
            "           1       0.66      0.54      0.59       365\n",
            "\n",
            "    accuracy                           0.81      1407\n",
            "   macro avg       0.76      0.72      0.73      1407\n",
            "weighted avg       0.80      0.81      0.80      1407\n",
            "\n"
          ]
        },
        {
          "output_type": "display_data",
          "data": {
            "text/plain": [
              "<Figure size 640x480 with 2 Axes>"
            ],
            "image/png": "[encoded data removed]"
          },
          "metadata": {}
        }
      ]
    },
    {
      "cell_type": "code",
      "source": [
        "tn, fp, fn, tp = confusion_matrix(y_test, y_pred).ravel()\n",
        "print (\"Tp\" + str(tp))\n",
        "print (\"tn\" +str(tn))\n",
        "print (\"fp\" +str(fp))\n",
        "print (\"fn\" +str(fn))"
      ],
      "metadata": {
        "colab": {
          "base_uri": "https://localhost:8080/"
        },
        "id": "51edRZ_6GpUs",
        "outputId": "01f6e9db-ddf0-47d9-d49c-db4900d4196e"
      },
      "execution_count": null,
      "outputs": [
        {
          "output_type": "stream",
          "name": "stdout",
          "text": [
            "Tp196\n",
            "tn943\n",
            "fp99\n",
            "fn169\n"
          ]
        }
      ]
    },
    {
      "cell_type": "markdown",
      "source": [
        "# AdaBoostClassifier"
      ],
      "metadata": {
        "id": "7u0-SYAv8XRV"
      }
    },
    {
      "cell_type": "code",
      "source": [
        "model = AdaBoostClassifier()\n",
        "model.fit(X_train,y_train)\n",
        "y_pred = model.predict(X_test)\n",
        "metrics.accuracy_score(y_test, y_pred)\n",
        "\n",
        "#y_pred = model_rf.predict(X_test)\n",
        "print (metrics.accuracy_score(y_test, y_pred))\n",
        "CM = confusion_matrix(y_test, y_pred)\n",
        "CM_display = ConfusionMatrixDisplay(CM).plot()\n",
        "print(classification_report(y_test, y_pred))"
      ],
      "metadata": {
        "colab": {
          "base_uri": "https://localhost:8080/",
          "height": 623
        },
        "id": "KsvB_K5mpUm9",
        "outputId": "6decda09-9490-42fb-ab14-46f42be8deeb"
      },
      "execution_count": null,
      "outputs": [
        {
          "output_type": "stream",
          "name": "stdout",
          "text": [
            "0.8180525941719972\n",
            "              precision    recall  f1-score   support\n",
            "\n",
            "           0       0.85      0.92      0.88      1042\n",
            "           1       0.69      0.54      0.61       365\n",
            "\n",
            "    accuracy                           0.82      1407\n",
            "   macro avg       0.77      0.73      0.74      1407\n",
            "weighted avg       0.81      0.82      0.81      1407\n",
            "\n"
          ]
        },
        {
          "output_type": "display_data",
          "data": {
            "text/plain": [
              "<Figure size 640x480 with 2 Axes>"
            ],
            "image/png": "[encoded data removed]"
          },
          "metadata": {}
        }
      ]
    },
    {
      "cell_type": "code",
      "source": [
        "tn, fp, fn, tp = confusion_matrix(y_test, y_pred).ravel()\n",
        "print (\"Tp\" + str(tp))\n",
        "print (\"tn\" +str(tn))\n",
        "print (\"fp\" +str(fp))\n",
        "print (\"fn\" +str(fn))"
      ],
      "metadata": {
        "colab": {
          "base_uri": "https://localhost:8080/"
        },
        "id": "Nbt_tUUlG5Is",
        "outputId": "5847b45c-dfca-4a06-aabb-af9e43628e85"
      },
      "execution_count": null,
      "outputs": [
        {
          "output_type": "stream",
          "name": "stdout",
          "text": [
            "Tp197\n",
            "tn954\n",
            "fp88\n",
            "fn168\n"
          ]
        }
      ]
    },
    {
      "cell_type": "markdown",
      "source": [
        "#XGBClassifier"
      ],
      "metadata": {
        "id": "INqq8aCp8yTh"
      }
    },
    {
      "cell_type": "code",
      "source": [
        "\n",
        "model = XGBClassifier()\n",
        "model.fit(X_train, y_train)\n",
        "y_pred = model.predict(X_test)\n",
        "print(metrics.accuracy_score(y_test, y_pred))\n",
        "CM = confusion_matrix(y_test, y_pred)\n",
        "CM_display = ConfusionMatrixDisplay(CM).plot()\n",
        "print(classification_report(y_test, y_pred))"
      ],
      "metadata": {
        "colab": {
          "base_uri": "https://localhost:8080/",
          "height": 623
        },
        "id": "ZI5XY6RSpeON",
        "outputId": "42bc9f7a-806a-4c7e-fe03-9850db0bc478"
      },
      "execution_count": null,
      "outputs": [
        {
          "output_type": "stream",
          "name": "stdout",
          "text": [
            "0.8052594171997157\n",
            "              precision    recall  f1-score   support\n",
            "\n",
            "           0       0.85      0.90      0.87      1042\n",
            "           1       0.65      0.53      0.59       365\n",
            "\n",
            "    accuracy                           0.81      1407\n",
            "   macro avg       0.75      0.72      0.73      1407\n",
            "weighted avg       0.80      0.81      0.80      1407\n",
            "\n"
          ]
        },
        {
          "output_type": "display_data",
          "data": {
            "text/plain": [
              "<Figure size 640x480 with 2 Axes>"
            ],
            "image/png": "[encoded data removed]"
          },
          "metadata": {}
        }
      ]
    },
    {
      "cell_type": "code",
      "source": [
        "tn, fp, fn, tp = confusion_matrix(y_test, y_pred).ravel()\n",
        "print (\"Tp\" + str(tp))\n",
        "print (\"tn\" +str(tn))\n",
        "print (\"fp\" +str(fp))\n",
        "print (\"fn\" +str(fn))"
      ],
      "metadata": {
        "colab": {
          "base_uri": "https://localhost:8080/"
        },
        "id": "LB1LuZzwHHg4",
        "outputId": "6523b461-ce89-44c5-e7ba-694793fcddaf"
      },
      "execution_count": null,
      "outputs": [
        {
          "output_type": "stream",
          "name": "stdout",
          "text": [
            "Tp195\n",
            "tn938\n",
            "fp104\n",
            "fn170\n"
          ]
        }
      ]
    },
    {
      "cell_type": "markdown",
      "source": [
        "# ANN"
      ],
      "metadata": {
        "id": "VLBnRb569Jty"
      }
    },
    {
      "cell_type": "code",
      "source": [
        "model = keras.Sequential([\n",
        "    keras.layers.Dense(20, input_shape=(20,), activation='relu'),\n",
        "    keras.layers.Dense(15, activation='relu'),\n",
        "    keras.layers.Dense(1, activation='sigmoid')\n",
        "])\n",
        "\n",
        "# opt = keras.optimizers.Adam(learning_rate=0.01)\n",
        "\n",
        "model.compile(optimizer='adam',\n",
        "              loss='binary_crossentropy',\n",
        "              metrics=['accuracy'])"
      ],
      "metadata": {
        "id": "IzwwV6uLph89"
      },
      "execution_count": null,
      "outputs": []
    },
    {
      "cell_type": "code",
      "source": [
        "model.fit(X_train, y_train, epochs=10)"
      ],
      "metadata": {
        "colab": {
          "base_uri": "https://localhost:8080/"
        },
        "id": "3Lm2AYbXqhI4",
        "outputId": "445f5839-5dae-42f9-9530-89e4b32bae20"
      },
      "execution_count": null,
      "outputs": [
        {
          "output_type": "stream",
          "name": "stdout",
          "text": [
            "Epoch 1/10\n",
            "176/176 [==============================] - 2s 2ms/step - loss: 0.5286 - accuracy: 0.7349\n",
            "Epoch 2/10\n",
            "176/176 [==============================] - 0s 2ms/step - loss: 0.4421 - accuracy: 0.7812\n",
            "Epoch 3/10\n",
            "176/176 [==============================] - 0s 2ms/step - loss: 0.4327 - accuracy: 0.7902\n",
            "Epoch 4/10\n",
            "176/176 [==============================] - 0s 2ms/step - loss: 0.4285 - accuracy: 0.7947\n",
            "Epoch 5/10\n",
            "176/176 [==============================] - 0s 2ms/step - loss: 0.4255 - accuracy: 0.7970\n",
            "Epoch 6/10\n",
            "176/176 [==============================] - 0s 2ms/step - loss: 0.4231 - accuracy: 0.7984\n",
            "Epoch 7/10\n",
            "176/176 [==============================] - 0s 2ms/step - loss: 0.4220 - accuracy: 0.7988\n",
            "Epoch 8/10\n",
            "176/176 [==============================] - 0s 2ms/step - loss: 0.4211 - accuracy: 0.7979\n",
            "Epoch 9/10\n",
            "176/176 [==============================] - 0s 2ms/step - loss: 0.4203 - accuracy: 0.8016\n",
            "Epoch 10/10\n",
            "176/176 [==============================] - 0s 2ms/step - loss: 0.4200 - accuracy: 0.8007\n"
          ]
        },
        {
          "output_type": "execute_result",
          "data": {
            "text/plain": [
              "<keras.callbacks.History at 0x7f44b64ad660>"
            ]
          },
          "metadata": {},
          "execution_count": 59
        }
      ]
    },
    {
      "cell_type": "code",
      "source": [
        "model.evaluate(X_test, y_test)"
      ],
      "metadata": {
        "colab": {
          "base_uri": "https://localhost:8080/"
        },
        "id": "W4LgnsXJq3d3",
        "outputId": "f838c8e8-bd0b-4b7e-fcbc-238158ee48df"
      },
      "execution_count": null,
      "outputs": [
        {
          "output_type": "stream",
          "name": "stdout",
          "text": [
            "44/44 [==============================] - 0s 1ms/step - loss: 0.4095 - accuracy: 0.8124\n"
          ]
        },
        {
          "output_type": "execute_result",
          "data": {
            "text/plain": [
              "[0.4094662666320801, 0.8123667240142822]"
            ]
          },
          "metadata": {},
          "execution_count": 93
        }
      ]
    },
    {
      "cell_type": "code",
      "source": [
        "yp = model.predict(X_test)\n",
        "yp[:5]"
      ],
      "metadata": {
        "colab": {
          "base_uri": "https://localhost:8080/"
        },
        "id": "jlg2ausSq_s_",
        "outputId": "083d93ee-a5ec-4952-a171-097d94c04e4e"
      },
      "execution_count": null,
      "outputs": [
        {
          "output_type": "stream",
          "name": "stdout",
          "text": [
            "44/44 [==============================] - 0s 1ms/step\n"
          ]
        },
        {
          "output_type": "execute_result",
          "data": {
            "text/plain": [
              "array([[0.36107644],\n",
              "       [0.6815068 ],\n",
              "       [0.03014463],\n",
              "       [0.01038654],\n",
              "       [0.5260457 ]], dtype=float32)"
            ]
          },
          "metadata": {},
          "execution_count": 94
        }
      ]
    },
    {
      "cell_type": "code",
      "source": [
        "y_pred = []\n",
        "for element in yp:\n",
        "    if element > 0.5:\n",
        "        y_pred.append(1)\n",
        "    else:\n",
        "        y_pred.append(0)"
      ],
      "metadata": {
        "id": "7LXJIHgOrRtw"
      },
      "execution_count": null,
      "outputs": []
    },
    {
      "cell_type": "code",
      "source": [
        "y_pred[:10]"
      ],
      "metadata": {
        "colab": {
          "base_uri": "https://localhost:8080/"
        },
        "id": "xs12GWw5rWao",
        "outputId": "d2fb528d-bb93-40c0-c1ef-e1f932899993"
      },
      "execution_count": null,
      "outputs": [
        {
          "output_type": "execute_result",
          "data": {
            "text/plain": [
              "[0, 1, 0, 0, 1, 0, 0, 0, 0, 1]"
            ]
          },
          "metadata": {},
          "execution_count": 96
        }
      ]
    },
    {
      "cell_type": "code",
      "source": [
        "y_test[:10]"
      ],
      "metadata": {
        "colab": {
          "base_uri": "https://localhost:8080/"
        },
        "id": "d1wMbjeUrYzQ",
        "outputId": "de1cb07e-f109-4265-dcc4-e340bb4c37c3"
      },
      "execution_count": null,
      "outputs": [
        {
          "output_type": "execute_result",
          "data": {
            "text/plain": [
              "array([1, 0, 0, 0, 1, 0, 0, 0, 1, 1])"
            ]
          },
          "metadata": {},
          "execution_count": 97
        }
      ]
    },
    {
      "cell_type": "code",
      "source": [
        "print(classification_report(y_test,y_pred))\n",
        "print(metrics.accuracy_score(y_test, y_pred))\n",
        "CM = confusion_matrix(y_test, y_pred)\n",
        "CM_display = ConfusionMatrixDisplay(CM).plot()\n",
        "#print(classification_report(y_test, y_pred))"
      ],
      "metadata": {
        "colab": {
          "base_uri": "https://localhost:8080/",
          "height": 623
        },
        "id": "oaxVYw74rkTn",
        "outputId": "014c0b12-d76e-49e6-b807-e4f40a4a787b"
      },
      "execution_count": null,
      "outputs": [
        {
          "output_type": "stream",
          "name": "stdout",
          "text": [
            "              precision    recall  f1-score   support\n",
            "\n",
            "           0       0.86      0.90      0.88      1042\n",
            "           1       0.66      0.57      0.61       365\n",
            "\n",
            "    accuracy                           0.81      1407\n",
            "   macro avg       0.76      0.73      0.74      1407\n",
            "weighted avg       0.81      0.81      0.81      1407\n",
            "\n",
            "0.8123667377398721\n"
          ]
        },
        {
          "output_type": "display_data",
          "data": {
            "text/plain": [
              "<Figure size 640x480 with 2 Axes>"
            ],
            "image/png": "[encoded data removed]"
          },
          "metadata": {}
        }
      ]
    }
  ]
}